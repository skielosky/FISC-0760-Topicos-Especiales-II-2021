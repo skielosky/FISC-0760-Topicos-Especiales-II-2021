{
  "nbformat": 4,
  "nbformat_minor": 0,
  "metadata": {
    "colab": {
      "name": "Lab01.ipynb",
      "provenance": []
    },
    "kernelspec": {
      "name": "python3",
      "display_name": "Python 3"
    },
    "language_info": {
      "name": "python"
    }
  },
  "cells": [
    {
      "cell_type": "code",
      "metadata": {
        "id": "N_3wpEmeL_Ij"
      },
      "source": [
        "import pandas as pd\n",
        "pd.options.display.float_format = '{:,.2f}'.format\n",
        "pd.set_option('display.width', 75)\n",
        "pd.set_option('display.max_columns', 5)\n",
        "\n",
        "# importar data\n",
        "temperaturas = pd.read_csv('https://raw.githubusercontent.com/skielosky/FISC-0760-Topicos-Especiales-II-2021/main/data/temperature.csv',\n",
        "    names=['estacion_id','anyo','mes','temp_prom','latitud',\n",
        "      'longitud','elevacion','estacion','pais_id','pais'],\n",
        "    skiprows=1,\n",
        "    parse_dates=[['mes','anyo']],\n",
        "    low_memory=False)"
      ],
      "execution_count": 3,
      "outputs": []
    },
    {
      "cell_type": "code",
      "metadata": {
        "colab": {
          "base_uri": "https://localhost:8080/"
        },
        "id": "Pbk5VMVLN6j3",
        "outputId": "7338719e-4dbc-43e6-ae04-b6dfebb83f74"
      },
      "source": [
        "type(temperaturas)"
      ],
      "execution_count": 4,
      "outputs": [
        {
          "output_type": "execute_result",
          "data": {
            "text/plain": [
              "pandas.core.frame.DataFrame"
            ]
          },
          "metadata": {
            "tags": []
          },
          "execution_count": 4
        }
      ]
    },
    {
      "cell_type": "code",
      "metadata": {
        "colab": {
          "base_uri": "https://localhost:8080/",
          "height": 233
        },
        "id": "KmTkfqVCOH1c",
        "outputId": "2c896ae0-2a2b-4c24-8eed-a2d8e61c16d7"
      },
      "source": [
        "temperaturas.head()"
      ],
      "execution_count": 5,
      "outputs": [
        {
          "output_type": "execute_result",
          "data": {
            "text/html": [
              "<div>\n",
              "<style scoped>\n",
              "    .dataframe tbody tr th:only-of-type {\n",
              "        vertical-align: middle;\n",
              "    }\n",
              "\n",
              "    .dataframe tbody tr th {\n",
              "        vertical-align: top;\n",
              "    }\n",
              "\n",
              "    .dataframe thead th {\n",
              "        text-align: right;\n",
              "    }\n",
              "</style>\n",
              "<table border=\"1\" class=\"dataframe\">\n",
              "  <thead>\n",
              "    <tr style=\"text-align: right;\">\n",
              "      <th></th>\n",
              "      <th>mes_anyo</th>\n",
              "      <th>estacion_id</th>\n",
              "      <th>...</th>\n",
              "      <th>pais_id</th>\n",
              "      <th>pais</th>\n",
              "    </tr>\n",
              "  </thead>\n",
              "  <tbody>\n",
              "    <tr>\n",
              "      <th>0</th>\n",
              "      <td>2000-04-01</td>\n",
              "      <td>USS0010K01S</td>\n",
              "      <td>...</td>\n",
              "      <td>US</td>\n",
              "      <td>United States</td>\n",
              "    </tr>\n",
              "    <tr>\n",
              "      <th>1</th>\n",
              "      <td>1940-05-01</td>\n",
              "      <td>CI000085406</td>\n",
              "      <td>...</td>\n",
              "      <td>CI</td>\n",
              "      <td>Chile</td>\n",
              "    </tr>\n",
              "    <tr>\n",
              "      <th>2</th>\n",
              "      <td>2013-12-01</td>\n",
              "      <td>USC00036376</td>\n",
              "      <td>...</td>\n",
              "      <td>US</td>\n",
              "      <td>United States</td>\n",
              "    </tr>\n",
              "    <tr>\n",
              "      <th>3</th>\n",
              "      <td>1963-02-01</td>\n",
              "      <td>ASN00024002</td>\n",
              "      <td>...</td>\n",
              "      <td>AS</td>\n",
              "      <td>Australia</td>\n",
              "    </tr>\n",
              "    <tr>\n",
              "      <th>4</th>\n",
              "      <td>2001-11-01</td>\n",
              "      <td>ASN00028007</td>\n",
              "      <td>...</td>\n",
              "      <td>AS</td>\n",
              "      <td>Australia</td>\n",
              "    </tr>\n",
              "  </tbody>\n",
              "</table>\n",
              "<p>5 rows × 9 columns</p>\n",
              "</div>"
            ],
            "text/plain": [
              "    mes_anyo  estacion_id  ...  pais_id           pais\n",
              "0 2000-04-01  USS0010K01S  ...       US  United States\n",
              "1 1940-05-01  CI000085406  ...       CI          Chile\n",
              "2 2013-12-01  USC00036376  ...       US  United States\n",
              "3 1963-02-01  ASN00024002  ...       AS      Australia\n",
              "4 2001-11-01  ASN00028007  ...       AS      Australia\n",
              "\n",
              "[5 rows x 9 columns]"
            ]
          },
          "metadata": {
            "tags": []
          },
          "execution_count": 5
        }
      ]
    },
    {
      "cell_type": "code",
      "metadata": {
        "colab": {
          "base_uri": "https://localhost:8080/"
        },
        "id": "VVldqddBOR6M",
        "outputId": "ea7c0940-fbbf-4e48-c807-0c4a748870b7"
      },
      "source": [
        "temperaturas.dtypes"
      ],
      "execution_count": 6,
      "outputs": [
        {
          "output_type": "execute_result",
          "data": {
            "text/plain": [
              "mes_anyo       datetime64[ns]\n",
              "estacion_id            object\n",
              "temp_prom             float64\n",
              "latitud               float64\n",
              "longitud              float64\n",
              "elevacion             float64\n",
              "estacion               object\n",
              "pais_id                object\n",
              "pais                   object\n",
              "dtype: object"
            ]
          },
          "metadata": {
            "tags": []
          },
          "execution_count": 6
        }
      ]
    },
    {
      "cell_type": "code",
      "metadata": {
        "colab": {
          "base_uri": "https://localhost:8080/"
        },
        "id": "jtiXML2XOWOH",
        "outputId": "7512b284-6067-4cc6-c9e8-5c66ffbdfa76"
      },
      "source": [
        "temperaturas.shape"
      ],
      "execution_count": 7,
      "outputs": [
        {
          "output_type": "execute_result",
          "data": {
            "text/plain": [
              "(100000, 9)"
            ]
          },
          "metadata": {
            "tags": []
          },
          "execution_count": 7
        }
      ]
    },
    {
      "cell_type": "code",
      "metadata": {
        "colab": {
          "base_uri": "https://localhost:8080/"
        },
        "id": "4S7Ouz-XOe0E",
        "outputId": "b7352172-3d11-4390-c527-2baa3559b560"
      },
      "source": [
        "temperaturas.rename(columns={'mes_anyo':'fecha'}, inplace=True)\n",
        "temperaturas.dtypes\n"
      ],
      "execution_count": 8,
      "outputs": [
        {
          "output_type": "execute_result",
          "data": {
            "text/plain": [
              "fecha          datetime64[ns]\n",
              "estacion_id            object\n",
              "temp_prom             float64\n",
              "latitud               float64\n",
              "longitud              float64\n",
              "elevacion             float64\n",
              "estacion               object\n",
              "pais_id                object\n",
              "pais                   object\n",
              "dtype: object"
            ]
          },
          "metadata": {
            "tags": []
          },
          "execution_count": 8
        }
      ]
    },
    {
      "cell_type": "code",
      "metadata": {
        "colab": {
          "base_uri": "https://localhost:8080/"
        },
        "id": "4nu7iVp8Pgvl",
        "outputId": "03407cbb-065e-4127-a944-ee595ed28cf7"
      },
      "source": [
        "temperaturas.temp_prom.describe()\n"
      ],
      "execution_count": 10,
      "outputs": [
        {
          "output_type": "execute_result",
          "data": {
            "text/plain": [
              "count   85,554.00\n",
              "mean        10.92\n",
              "std         11.52\n",
              "min        -70.70\n",
              "25%          3.46\n",
              "50%         12.22\n",
              "75%         19.57\n",
              "max         39.95\n",
              "Name: temp_prom, dtype: float64"
            ]
          },
          "metadata": {
            "tags": []
          },
          "execution_count": 10
        }
      ]
    },
    {
      "cell_type": "code",
      "metadata": {
        "colab": {
          "base_uri": "https://localhost:8080/"
        },
        "id": "2LiWlihKPk_s",
        "outputId": "593b2d2b-8512-4cbe-b3d6-ed6065f6f6e5"
      },
      "source": [
        "temperaturas.isnull().sum()"
      ],
      "execution_count": 11,
      "outputs": [
        {
          "output_type": "execute_result",
          "data": {
            "text/plain": [
              "fecha              0\n",
              "estacion_id        0\n",
              "temp_prom      14446\n",
              "latitud            0\n",
              "longitud           0\n",
              "elevacion          0\n",
              "estacion           0\n",
              "pais_id            0\n",
              "pais               5\n",
              "dtype: int64"
            ]
          },
          "metadata": {
            "tags": []
          },
          "execution_count": 11
        }
      ]
    },
    {
      "cell_type": "code",
      "metadata": {
        "colab": {
          "base_uri": "https://localhost:8080/"
        },
        "id": "nWB5DQjaPnVU",
        "outputId": "fe5bdbea-177b-4483-d87b-7f7bb82eb2cb"
      },
      "source": [
        "# remover filas con missing values\n",
        "temperaturas.dropna(subset=['temp_prom'], inplace=True)\n",
        "temperaturas.shape"
      ],
      "execution_count": 12,
      "outputs": [
        {
          "output_type": "execute_result",
          "data": {
            "text/plain": [
              "(85554, 9)"
            ]
          },
          "metadata": {
            "tags": []
          },
          "execution_count": 12
        }
      ]
    },
    {
      "cell_type": "code",
      "metadata": {
        "id": "b_SDsS-GPz7-"
      },
      "source": [
        ""
      ],
      "execution_count": null,
      "outputs": []
    },
    {
      "cell_type": "code",
      "metadata": {
        "id": "buzK2lblUny7"
      },
      "source": [
        ""
      ],
      "execution_count": null,
      "outputs": []
    }
  ]
}